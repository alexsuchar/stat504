{
 "cells": [
  {
   "cell_type": "markdown",
   "metadata": {},
   "source": [
    "# Predict the Success of an Advertisement Campaign\n",
    "\n",
    "> V.A. Suchar\n",
    "> 11/12/15"
   ]
  },
  {
   "cell_type": "markdown",
   "metadata": {},
   "source": [
    "#### 1. Description of the data and project"
   ]
  },
  {
   "cell_type": "markdown",
   "metadata": {},
   "source": [
    "> Using the following dataset, I want to determine if an e-mail campaign was successful. Meaning if it increased the visibility and the sales of an online retailer.\n",
    ">  For this, I will use a dataset of 64,000 customers that purchased items within twelve months.\n",
    "> The data source is:: http://blog.minethatdata.com/2008/03/minethatdata-e-mail-analytics-and-data.html\n",
    "\n",
    "> The customers were involved in an e-mail test:\n",
    ">      -    1/3 were randomly chosen to receive an e-mail campaign featuring Mens merchandise.\n",
    ">      -    1/3 were randomly chosen to receive an e-mail campaign featuring Womens merchandise.\n",
    ">      -    1/3 were randomly chosen to not receive an e-mail campaign.\n",
    "\n",
    "> During a period of two weeks following the e-mail campaign, results were tracked. \n",
    "> Historical customer attributes:\n",
    ">      -    Recency: Months since last purchase.\n",
    ">      -    History_Segment: Categorization of dollars spent in the past year.\n",
    ">      -    History: Actual dollar value spent in the past year.\n",
    ">      -    Mens: 1/0 indicator, 1 = customer purchased Mens merchandise in the past year.\n",
    ">      -    Womens: 1/0 indicator, 1 = customer purchased Womens merchandise in the past year.\n",
    ">      -    Zip_Code: Classifies zip code as Urban, Suburban, or Rural.\n",
    ">      -    Newbie: 1/0 indicator, 1 = New customer in the past twelve months.\n",
    ">      -    Channel: Describes the channels the customer purchased from in the past year.\n",
    "\n",
    "> Another variable describes the e-mail campaign the customer received:\n",
    ">     -    Mens E-Mail\n",
    ">      -   Womens E-Mail\n",
    ">      -   No E-Mail\n",
    "\n",
    "> Variables describing activity in the two weeks following delivery of the e-mail campaign:\n",
    ">      -    Visit: 1/0 indicator, 1 = Customer visited website in the following two weeks.\n",
    ">      -    Conversion: 1/0 indicator, 1 = Customer purchased merchandise in the following two weeks.\n",
    ">      -    Spend: Actual dollars spent in the following two weeks."
   ]
  },
  {
   "cell_type": "markdown",
   "metadata": {},
   "source": [
    "#### 2. Data and summary statistics"
   ]
  },
  {
   "cell_type": "code",
   "execution_count": 36,
   "metadata": {
    "collapsed": false
   },
   "outputs": [],
   "source": [
    "#Preliminaries:\n",
    "import pandas as pd\n",
    "import numpy as np\n",
    "import matplotlib.pyplot as plt"
   ]
  },
  {
   "cell_type": "code",
   "execution_count": 37,
   "metadata": {
    "collapsed": false
   },
   "outputs": [
    {
     "data": {
      "text/html": [
       "<div>\n",
       "<table border=\"1\" class=\"dataframe\">\n",
       "  <thead>\n",
       "    <tr style=\"text-align: right;\">\n",
       "      <th></th>\n",
       "      <th>recency</th>\n",
       "      <th>history_segment</th>\n",
       "      <th>history</th>\n",
       "      <th>mens</th>\n",
       "      <th>womens</th>\n",
       "      <th>zip_code</th>\n",
       "      <th>newbie</th>\n",
       "      <th>channel</th>\n",
       "      <th>segment</th>\n",
       "      <th>visit</th>\n",
       "      <th>conversion</th>\n",
       "      <th>spend</th>\n",
       "    </tr>\n",
       "  </thead>\n",
       "  <tbody>\n",
       "    <tr>\n",
       "      <th>0</th>\n",
       "      <td>10</td>\n",
       "      <td>2</td>\n",
       "      <td>142.44</td>\n",
       "      <td>1</td>\n",
       "      <td>0</td>\n",
       "      <td>Surburban</td>\n",
       "      <td>0</td>\n",
       "      <td>Phone</td>\n",
       "      <td>WomensEMail</td>\n",
       "      <td>0</td>\n",
       "      <td>0</td>\n",
       "      <td>0</td>\n",
       "    </tr>\n",
       "    <tr>\n",
       "      <th>1</th>\n",
       "      <td>6</td>\n",
       "      <td>3</td>\n",
       "      <td>329.08</td>\n",
       "      <td>1</td>\n",
       "      <td>1</td>\n",
       "      <td>Rural</td>\n",
       "      <td>1</td>\n",
       "      <td>Web</td>\n",
       "      <td>NoEMail</td>\n",
       "      <td>0</td>\n",
       "      <td>0</td>\n",
       "      <td>0</td>\n",
       "    </tr>\n",
       "    <tr>\n",
       "      <th>2</th>\n",
       "      <td>7</td>\n",
       "      <td>2</td>\n",
       "      <td>180.65</td>\n",
       "      <td>0</td>\n",
       "      <td>1</td>\n",
       "      <td>Surburban</td>\n",
       "      <td>1</td>\n",
       "      <td>Web</td>\n",
       "      <td>WomensEMail</td>\n",
       "      <td>0</td>\n",
       "      <td>0</td>\n",
       "      <td>0</td>\n",
       "    </tr>\n",
       "    <tr>\n",
       "      <th>3</th>\n",
       "      <td>9</td>\n",
       "      <td>5</td>\n",
       "      <td>675.83</td>\n",
       "      <td>1</td>\n",
       "      <td>0</td>\n",
       "      <td>Rural</td>\n",
       "      <td>1</td>\n",
       "      <td>Web</td>\n",
       "      <td>MensEMail</td>\n",
       "      <td>0</td>\n",
       "      <td>0</td>\n",
       "      <td>0</td>\n",
       "    </tr>\n",
       "    <tr>\n",
       "      <th>4</th>\n",
       "      <td>2</td>\n",
       "      <td>1</td>\n",
       "      <td>45.34</td>\n",
       "      <td>1</td>\n",
       "      <td>0</td>\n",
       "      <td>Urban</td>\n",
       "      <td>0</td>\n",
       "      <td>Web</td>\n",
       "      <td>WomensEMail</td>\n",
       "      <td>0</td>\n",
       "      <td>0</td>\n",
       "      <td>0</td>\n",
       "    </tr>\n",
       "  </tbody>\n",
       "</table>\n",
       "</div>"
      ],
      "text/plain": [
       "   recency  history_segment  history  mens  womens   zip_code  newbie channel  \\\n",
       "0       10                2   142.44     1       0  Surburban       0   Phone   \n",
       "1        6                3   329.08     1       1      Rural       1     Web   \n",
       "2        7                2   180.65     0       1  Surburban       1     Web   \n",
       "3        9                5   675.83     1       0      Rural       1     Web   \n",
       "4        2                1    45.34     1       0      Urban       0     Web   \n",
       "\n",
       "       segment  visit  conversion  spend  \n",
       "0  WomensEMail      0           0      0  \n",
       "1      NoEMail      0           0      0  \n",
       "2  WomensEMail      0           0      0  \n",
       "3    MensEMail      0           0      0  \n",
       "4  WomensEMail      0           0      0  "
      ]
     },
     "execution_count": 37,
     "metadata": {},
     "output_type": "execute_result"
    }
   ],
   "source": [
    "# The dataset:\n",
    "data=pd.read_csv('C:/Users/vasiles/Dropbox/STAT 504 Python/project/dataset2.csv')\n",
    "data.head()"
   ]
  },
  {
   "cell_type": "code",
   "execution_count": 38,
   "metadata": {
    "collapsed": false
   },
   "outputs": [
    {
     "data": {
      "text/html": [
       "<div>\n",
       "<table border=\"1\" class=\"dataframe\">\n",
       "  <thead>\n",
       "    <tr style=\"text-align: right;\">\n",
       "      <th></th>\n",
       "      <th>count</th>\n",
       "      <th>mean</th>\n",
       "      <th>std</th>\n",
       "      <th>min</th>\n",
       "      <th>25%</th>\n",
       "      <th>50%</th>\n",
       "      <th>75%</th>\n",
       "      <th>max</th>\n",
       "    </tr>\n",
       "  </thead>\n",
       "  <tbody>\n",
       "    <tr>\n",
       "      <th>recency</th>\n",
       "      <td>64000</td>\n",
       "      <td>5.763734</td>\n",
       "      <td>3.507592</td>\n",
       "      <td>1.00</td>\n",
       "      <td>2.00</td>\n",
       "      <td>6.00</td>\n",
       "      <td>9.0000</td>\n",
       "      <td>12.00</td>\n",
       "    </tr>\n",
       "    <tr>\n",
       "      <th>history_segment</th>\n",
       "      <td>64000</td>\n",
       "      <td>2.481969</td>\n",
       "      <td>1.544514</td>\n",
       "      <td>1.00</td>\n",
       "      <td>1.00</td>\n",
       "      <td>2.00</td>\n",
       "      <td>3.0000</td>\n",
       "      <td>7.00</td>\n",
       "    </tr>\n",
       "    <tr>\n",
       "      <th>history</th>\n",
       "      <td>64000</td>\n",
       "      <td>242.085656</td>\n",
       "      <td>256.158608</td>\n",
       "      <td>29.99</td>\n",
       "      <td>64.66</td>\n",
       "      <td>158.11</td>\n",
       "      <td>325.6575</td>\n",
       "      <td>3345.93</td>\n",
       "    </tr>\n",
       "    <tr>\n",
       "      <th>mens</th>\n",
       "      <td>64000</td>\n",
       "      <td>0.551031</td>\n",
       "      <td>0.497393</td>\n",
       "      <td>0.00</td>\n",
       "      <td>0.00</td>\n",
       "      <td>1.00</td>\n",
       "      <td>1.0000</td>\n",
       "      <td>1.00</td>\n",
       "    </tr>\n",
       "    <tr>\n",
       "      <th>womens</th>\n",
       "      <td>64000</td>\n",
       "      <td>0.549719</td>\n",
       "      <td>0.497526</td>\n",
       "      <td>0.00</td>\n",
       "      <td>0.00</td>\n",
       "      <td>1.00</td>\n",
       "      <td>1.0000</td>\n",
       "      <td>1.00</td>\n",
       "    </tr>\n",
       "    <tr>\n",
       "      <th>newbie</th>\n",
       "      <td>64000</td>\n",
       "      <td>0.502250</td>\n",
       "      <td>0.499999</td>\n",
       "      <td>0.00</td>\n",
       "      <td>0.00</td>\n",
       "      <td>1.00</td>\n",
       "      <td>1.0000</td>\n",
       "      <td>1.00</td>\n",
       "    </tr>\n",
       "    <tr>\n",
       "      <th>visit</th>\n",
       "      <td>64000</td>\n",
       "      <td>0.146781</td>\n",
       "      <td>0.353890</td>\n",
       "      <td>0.00</td>\n",
       "      <td>0.00</td>\n",
       "      <td>0.00</td>\n",
       "      <td>0.0000</td>\n",
       "      <td>1.00</td>\n",
       "    </tr>\n",
       "    <tr>\n",
       "      <th>conversion</th>\n",
       "      <td>64000</td>\n",
       "      <td>0.009031</td>\n",
       "      <td>0.094604</td>\n",
       "      <td>0.00</td>\n",
       "      <td>0.00</td>\n",
       "      <td>0.00</td>\n",
       "      <td>0.0000</td>\n",
       "      <td>1.00</td>\n",
       "    </tr>\n",
       "    <tr>\n",
       "      <th>spend</th>\n",
       "      <td>64000</td>\n",
       "      <td>1.050908</td>\n",
       "      <td>15.036448</td>\n",
       "      <td>0.00</td>\n",
       "      <td>0.00</td>\n",
       "      <td>0.00</td>\n",
       "      <td>0.0000</td>\n",
       "      <td>499.00</td>\n",
       "    </tr>\n",
       "  </tbody>\n",
       "</table>\n",
       "</div>"
      ],
      "text/plain": [
       "                 count        mean         std    min    25%     50%  \\\n",
       "recency          64000    5.763734    3.507592   1.00   2.00    6.00   \n",
       "history_segment  64000    2.481969    1.544514   1.00   1.00    2.00   \n",
       "history          64000  242.085656  256.158608  29.99  64.66  158.11   \n",
       "mens             64000    0.551031    0.497393   0.00   0.00    1.00   \n",
       "womens           64000    0.549719    0.497526   0.00   0.00    1.00   \n",
       "newbie           64000    0.502250    0.499999   0.00   0.00    1.00   \n",
       "visit            64000    0.146781    0.353890   0.00   0.00    0.00   \n",
       "conversion       64000    0.009031    0.094604   0.00   0.00    0.00   \n",
       "spend            64000    1.050908   15.036448   0.00   0.00    0.00   \n",
       "\n",
       "                      75%      max  \n",
       "recency            9.0000    12.00  \n",
       "history_segment    3.0000     7.00  \n",
       "history          325.6575  3345.93  \n",
       "mens               1.0000     1.00  \n",
       "womens             1.0000     1.00  \n",
       "newbie             1.0000     1.00  \n",
       "visit              0.0000     1.00  \n",
       "conversion         0.0000     1.00  \n",
       "spend              0.0000   499.00  "
      ]
     },
     "execution_count": 38,
     "metadata": {},
     "output_type": "execute_result"
    }
   ],
   "source": [
    "data.describe().transpose()"
   ]
  },
  {
   "cell_type": "code",
   "execution_count": 39,
   "metadata": {
    "collapsed": false
   },
   "outputs": [
    {
     "data": {
      "image/png": "[encoded data removed]",
      "text/plain": [
       "<matplotlib.figure.Figure at 0x22c987b8>"
      ]
     },
     "metadata": {},
     "output_type": "display_data"
    }
   ],
   "source": [
    "data2=data[['recency', 'history', 'spend']]\n",
    "%matplotlib inline\n",
    "axes = pd.tools.plotting.scatter_matrix(data2, alpha=0.2)\n",
    "plt.tight_layout()\n",
    "plt.savefig('scatter_matrix.png')"
   ]
  },
  {
   "cell_type": "markdown",
   "metadata": {},
   "source": [
    "#### 3. Statistical analysis methods"
   ]
  },
  {
   "cell_type": "markdown",
   "metadata": {},
   "source": [
    "> A data analysis for the dataset will be conducted to predict if the customers visited the webpage and if they made a purchase in the last two weeks. Various models (as introduced in the class) will be compared and contrasted for performance. \n",
    "> A regression analysis of the amount spent on the last to weeks will be also conducted.\n",
    "> The focus of the anlysis will be to identify if the campaign was succesful & which features can be used in predicting purchasing behaviour of customers. "
   ]
  }
 ],
 "metadata": {
  "kernelspec": {
   "display_name": "Python 2",
   "language": "python",
   "name": "python2"
  },
  "language_info": {
   "codemirror_mode": {
    "name": "ipython",
    "version": 2
   },
   "file_extension": ".py",
   "mimetype": "text/x-python",
   "name": "python",
   "nbconvert_exporter": "python",
   "pygments_lexer": "ipython2",
   "version": "2.7.10"
  }
 },
 "nbformat": 4,
 "nbformat_minor": 0
}
