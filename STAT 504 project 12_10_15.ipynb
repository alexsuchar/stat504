{
 "cells": [
  {
   "cell_type": "markdown",
   "metadata": {},
   "source": [
    "# Determine a comercial website success"
   ]
  },
  {
   "cell_type": "markdown",
   "metadata": {},
   "source": [
    "> Source: http://blog.minethatdata.com/2008/03/minethatdata-e-mail-analytics-and-data.html"
   ]
  },
  {
   "cell_type": "markdown",
   "metadata": {},
   "source": [
    "#### 1. Data description"
   ]
  },
  {
   "cell_type": "markdown",
   "metadata": {},
   "source": [
    "> This dataset contains 64,000 customers who made purchases within twelve months. \n",
    "> \n",
    "> Historical customer attributes:\n",
    ">   - Recency: Months since last purchase.\n",
    ">   - History_Segment: Categorization of dollars spent in the past year.\n",
    ">   - History: Actual dollar value spent in the past year.\n",
    ">   - Mens: 1/0 indicator, 1 = customer purchased Mens merchandise in the past year.\n",
    ">   - Womens: 1/0 indicator, 1 = customer purchased Womens merchandise in the past year.\n",
    ">   - Zip_Code: Classifies zip code as Urban, Suburban, or Rural.\n",
    ">   - Newbie: 1/0 indicator, 1 = New customer in the past twelve months.\n",
    ">   - Channel: Describes the channels the customer purchased from in the past year\n",
    ">   - E-mail campaign received by the customer: Men-Email, Women E-mail No-email\n",
    ">\n",
    "> Response variable:\n",
    ">   - Visit: 1/0 indicator, 1 = Customer visited website in the following two weeks\n",
    ">   - Conversion: 1/0 indicator, 1 = Customer purchased merchandise in the following two weeks.\n",
    ">   - Spend: Actual dollars spent in the following two weeks."
   ]
  },
  {
   "cell_type": "markdown",
   "metadata": {},
   "source": [
    "#### 2. Objectives: develop models to predict the response variables from the given explanatory variables"
   ]
  },
  {
   "cell_type": "markdown",
   "metadata": {},
   "source": [
    "#### 3.1. Descriptive statistics "
   ]
  },
  {
   "cell_type": "code",
   "execution_count": 1,
   "metadata": {
    "collapsed": false
   },
   "outputs": [
    {
     "name": "stdout",
     "output_type": "stream",
     "text": [
      "   recency  history_segment  history  mens  womens   zip_code  newbie channel  \\\n",
      "0       10                2   142.44     1       0  Surburban       0   Phone   \n",
      "1        6                3   329.08     1       1      Rural       1     Web   \n",
      "2        7                2   180.65     0       1  Surburban       1     Web   \n",
      "3        9                5   675.83     1       0      Rural       1     Web   \n",
      "4        2                1    45.34     1       0      Urban       0     Web   \n",
      "\n",
      "       segment  visit  conversion  spend  \n",
      "0  WomensEMail      0           0      0  \n",
      "1      NoEMail      0           0      0  \n",
      "2  WomensEMail      0           0      0  \n",
      "3    MensEMail      0           0      0  \n",
      "4  WomensEMail      0           0      0  \n",
      "                 count        mean         std    min    25%     50%  \\\n",
      "recency          64000    5.763734    3.507592   1.00   2.00    6.00   \n",
      "history_segment  64000    2.481969    1.544514   1.00   1.00    2.00   \n",
      "history          64000  242.085656  256.158608  29.99  64.66  158.11   \n",
      "mens             64000    0.551031    0.497393   0.00   0.00    1.00   \n",
      "womens           64000    0.549719    0.497526   0.00   0.00    1.00   \n",
      "newbie           64000    0.502250    0.499999   0.00   0.00    1.00   \n",
      "visit            64000    0.146781    0.353890   0.00   0.00    0.00   \n",
      "conversion       64000    0.009031    0.094604   0.00   0.00    0.00   \n",
      "spend            64000    1.050908   15.036448   0.00   0.00    0.00   \n",
      "\n",
      "                      75%      max  \n",
      "recency            9.0000    12.00  \n",
      "history_segment    3.0000     7.00  \n",
      "history          325.6575  3345.93  \n",
      "mens               1.0000     1.00  \n",
      "womens             1.0000     1.00  \n",
      "newbie             1.0000     1.00  \n",
      "visit              0.0000     1.00  \n",
      "conversion         0.0000     1.00  \n",
      "spend              0.0000   499.00  \n"
     ]
    }
   ],
   "source": [
    "import pandas as pd\n",
    "import numpy as np\n",
    "data=pd.read_csv('C:/Users/vasiles/OneDrive/STAT 504 Python/project/dataset2.csv')\n",
    "print data.head()\n",
    "\n",
    "print data.describe().transpose()"
   ]
  },
  {
   "cell_type": "markdown",
   "metadata": {},
   "source": [
    "#### 3.2 Data preparation"
   ]
  },
  {
   "cell_type": "code",
   "execution_count": 39,
   "metadata": {
    "collapsed": false
   },
   "outputs": [
    {
     "name": "stdout",
     "output_type": "stream",
     "text": [
      "<class 'pandas.core.frame.DataFrame'>\n",
      "Int64Index: 64000 entries, 0 to 63999\n",
      "Data columns (total 12 columns):\n",
      "recency            64000 non-null int64\n",
      "history_segment    64000 non-null int64\n",
      "history            64000 non-null float64\n",
      "mens               64000 non-null int64\n",
      "womens             64000 non-null int64\n",
      "zip_code           64000 non-null object\n",
      "newbie             64000 non-null int64\n",
      "channel            64000 non-null object\n",
      "segment            64000 non-null object\n",
      "visit              64000 non-null int64\n",
      "conversion         64000 non-null int64\n",
      "spend              64000 non-null float64\n",
      "dtypes: float64(2), int64(7), object(3)\n",
      "memory usage: 6.3+ MB\n",
      "   recency  history_segment  history  mens  womens   zip_code  newbie channel  \\\n",
      "0       10                2   142.44     1       0  Surburban       0   Phone   \n",
      "1        6                3   329.08     1       1      Rural       1     Web   \n",
      "2        7                2   180.65     0       1  Surburban       1     Web   \n",
      "3        9                5   675.83     1       0      Rural       1     Web   \n",
      "4        2                1    45.34     1       0      Urban       0     Web   \n",
      "\n",
      "       segment  visit  conversion  spend  Location  Purchase_channel  \\\n",
      "0  WomensEMail      0           0      0         0                 0   \n",
      "1      NoEMail      0           0      0         1                 1   \n",
      "2  WomensEMail      0           0      0         0                 1   \n",
      "3    MensEMail      0           0      0         1                 1   \n",
      "4  WomensEMail      0           0      0         2                 1   \n",
      "\n",
      "   Campaign_type  \n",
      "0              1  \n",
      "1              0  \n",
      "2              1  \n",
      "3              2  \n",
      "4              1  \n"
     ]
    }
   ],
   "source": [
    "# replace missing values with nan's\n",
    "df=data.replace(' ', np.NaN)\n",
    "# drop nan's\n",
    "df=df.dropna()\n",
    "df.info()\n",
    "df['Location'] = df['zip_code'].map( {'Surburban': 0, 'Rural': 1, 'Urban': 2} ).astype(int)\n",
    "df['Purchase_channel'] = df['channel'].map( {'Phone': 0, 'Web': 1, 'Multichannel': 2} ).astype(int)\n",
    "df['Campaign_type'] = df['segment'].map( {'NoEMail': 0, 'WomensEMail': 1, 'MensEMail': 2} ).astype(int)\n",
    "\n",
    "print df.head()"
   ]
  },
  {
   "cell_type": "markdown",
   "metadata": {},
   "source": [
    "#### 4. Objective 1: develop models to predict if customers visited website in the following two weeks"
   ]
  },
  {
   "cell_type": "code",
   "execution_count": 40,
   "metadata": {
    "collapsed": false
   },
   "outputs": [
    {
     "name": "stdout",
     "output_type": "stream",
     "text": [
      "(48000, 8)\n",
      "(16000, 8)\n"
     ]
    }
   ],
   "source": [
    "X_cols=[ 'recency', 'history', 'mens', 'womens', 'Location', 'newbie', 'Purchase_channel', 'Campaign_type']\n",
    "X=df[X_cols]\n",
    "Y=df.visit\n",
    "\n",
    "from sklearn.cross_validation import train_test_split\n",
    "X_train, X_test, y_train, y_test = train_test_split(X, Y, random_state=1234567)\n",
    "\n",
    "print X_train.shape\n",
    "print X_test.shape"
   ]
  },
  {
   "cell_type": "markdown",
   "metadata": {},
   "source": [
    "> 4.1 Naive Bayes"
   ]
  },
  {
   "cell_type": "code",
   "execution_count": 41,
   "metadata": {
    "collapsed": false
   },
   "outputs": [
    {
     "name": "stdout",
     "output_type": "stream",
     "text": [
      "3.47146336424e-05 seconds process time\n",
      "[ 0.57484355  0.57427245  0.58621181  0.57229435  0.57114952  0.56740379\n",
      "  0.60746276  0.56582181  0.58620172  0.5926447 ]\n",
      "0.579830647097\n",
      "0.530777994182 seconds process time\n"
     ]
    }
   ],
   "source": [
    "import time\n",
    "# measure process time\n",
    "t0 = time.clock()\n",
    "\n",
    "print time.clock() - t0, \"seconds process time\"\n",
    "nb_time=time.clock() - t0\n",
    "from sklearn.naive_bayes import MultinomialNB\n",
    "nb= MultinomialNB()\n",
    "X = X_train\n",
    "y = y_train\n",
    "nb.fit(X, y)\n",
    "y_pred_rating=nb.predict(X_test)\n",
    "from sklearn import metrics\n",
    "# print metrics.accuracy_score(y_test, y_pred_rating)\n",
    "# 10 fold cross-validation\n",
    "from sklearn.cross_validation import cross_val_score\n",
    "nb_10cv_auc = cross_val_score(nb, X, y, cv=10, scoring='roc_auc')\n",
    "print nb_10cv_auc\n",
    "print nb_10cv_auc.mean()\n",
    "\n",
    "print time.clock() - t0, \"seconds process time\"\n",
    "nb_time=time.clock() - t0"
   ]
  },
  {
   "cell_type": "markdown",
   "metadata": {},
   "source": [
    "> 4.2 KNN"
   ]
  },
  {
   "cell_type": "code",
   "execution_count": 42,
   "metadata": {
    "collapsed": false
   },
   "outputs": [
    {
     "name": "stdout",
     "output_type": "stream",
     "text": [
      "[0.51404245204716636, 0.52253745382080863, 0.52999663619769133, 0.53644080774165614, 0.54396527572763698, 0.54726508553652653, 0.54821054790569645, 0.54956934383699574]\n",
      "[ 0.53742186  0.55508026  0.55726286  0.54044283  0.5500802   0.54380452\n",
      "  0.55294333  0.5344749   0.56750193  0.55668076]\n",
      "0.549569343837\n",
      "14.9113635787 seconds process time\n"
     ]
    },
    {
     "data": {
      "image/png": "[encoded data removed]",
      "text/plain": [
       "<matplotlib.figure.Figure at 0x1f8ff0b8>"
      ]
     },
     "metadata": {},
     "output_type": "display_data"
    }
   ],
   "source": [
    "# measure process time\n",
    "t0 = time.clock()\n",
    "\n",
    "from sklearn.neighbors import KNeighborsClassifier\n",
    "\n",
    "X = X_train\n",
    "y = y_train\n",
    "# search for an optimal value of K for KNN\n",
    "k_range = range(1, 9)\n",
    "k_val = []\n",
    "for k in k_range:\n",
    "   knn = KNeighborsClassifier(n_neighbors=k)\n",
    "   scores = cross_val_score(knn, X, y, cv=10, scoring='roc_auc')\n",
    "   k_val.append(scores.mean())\n",
    "print k_val\n",
    "\n",
    "# plot the values of K for KNN \n",
    "import matplotlib.pyplot as plt\n",
    "plt.plot(k_range, k_val, linewidth=2.0)\n",
    "plt.xlabel('K ')\n",
    "plt.ylabel('AUC')\n",
    "plt.title('KNN: optimal k')\n",
    "plt.grid(True)\n",
    "\n",
    "# use optimal k\n",
    "knn = KNeighborsClassifier(n_neighbors=8)\n",
    "knn.fit(X, y)\n",
    "knn_pred_rating = knn.predict(X) # class predictions\n",
    "from sklearn import metrics\n",
    "# print metrics.accuracy_score(y_test, y_pred_rating)\n",
    "# 10 fold cross-validation\n",
    "from sklearn.cross_validation import cross_val_score\n",
    "knn_10cv_auc = cross_val_score(knn, X, y, cv=10, scoring='roc_auc')\n",
    "print knn_10cv_auc\n",
    "print knn_10cv_auc.mean()\n",
    "\n",
    "print time.clock() - t0, \"seconds process time\"\n",
    "knn_time=time.clock() - t0"
   ]
  },
  {
   "cell_type": "markdown",
   "metadata": {},
   "source": [
    "> 4.3 Logistic regression"
   ]
  },
  {
   "cell_type": "code",
   "execution_count": 43,
   "metadata": {
    "collapsed": false
   },
   "outputs": [
    {
     "name": "stdout",
     "output_type": "stream",
     "text": [
      "[ 0.64243634  0.64564644  0.64579946  0.61983594  0.61726966  0.62933077\n",
      "  0.6477608   0.6452407   0.64036973  0.63627114]\n",
      "0.636996097985\n",
      "2.45565733819 seconds process time\n"
     ]
    }
   ],
   "source": [
    "# measure process time\n",
    "t0 = time.clock()\n",
    "\n",
    "from sklearn.linear_model import LogisticRegression\n",
    "logreg = LogisticRegression(C=1e9)\n",
    "X = X_train\n",
    "y = y_train\n",
    "logreg.fit(X, y)\n",
    "lg_pred_rating = logreg.predict(X) # class predictions\n",
    "from sklearn import metrics\n",
    "# print metrics.accuracy_score(y_test, y_pred_rating)\n",
    "# 10 fold cross-validation\n",
    "from sklearn.cross_validation import cross_val_score\n",
    "lg_10cv_auc = cross_val_score(logreg, X, y, cv=10, scoring='roc_auc')\n",
    "print lg_10cv_auc\n",
    "print lg_10cv_auc.mean()\n",
    "\n",
    "print time.clock() - t0, \"seconds process time\"\n",
    "lg_time=time.clock() - t0"
   ]
  },
  {
   "cell_type": "markdown",
   "metadata": {},
   "source": [
    "> 4.4 Tree"
   ]
  },
  {
   "cell_type": "code",
   "execution_count": 44,
   "metadata": {
    "collapsed": false
   },
   "outputs": [
    {
     "name": "stdout",
     "output_type": "stream",
     "text": [
      "[ 0.60720487  0.61475896  0.61708404  0.59308326  0.60410903  0.59244216\n",
      "  0.62032498  0.60971161  0.6053398   0.60464681]\n",
      "0.606870554387\n",
      "0.614497917726 seconds process time\n"
     ]
    }
   ],
   "source": [
    "# measure process time\n",
    "t0 = time.clock()\n",
    "\n",
    "from sklearn.tree import DecisionTreeClassifier\n",
    "tree = DecisionTreeClassifier(max_depth=3, random_state=1)\n",
    "X = X_train\n",
    "y = y_train\n",
    "tree.fit(X,y)\n",
    "from sklearn.cross_validation import cross_val_score\n",
    "tree_10cv_auc = cross_val_score(tree, X, y, cv=10, scoring='roc_auc')\n",
    "print tree_10cv_auc\n",
    "print tree_10cv_auc.mean()\n",
    "\n",
    "\n",
    "print time.clock() - t0, \"seconds process time\"\n",
    "tree_time=time.clock() - t0"
   ]
  },
  {
   "cell_type": "markdown",
   "metadata": {},
   "source": [
    "> 4.5 Bagging"
   ]
  },
  {
   "cell_type": "code",
   "execution_count": 45,
   "metadata": {
    "collapsed": false
   },
   "outputs": [
    {
     "name": "stdout",
     "output_type": "stream",
     "text": [
      "[0.60613708034522551, 0.6115706094008212, 0.61636632502027688, 0.6169232937197503, 0.61708741405497114, 0.61698813712455247, 0.61750258600179131]\n",
      "[ 0.61186827  0.62317505  0.63662795  0.60545108  0.61022556  0.60002235\n",
      "  0.63081934  0.62140824  0.62166492  0.61376312]\n",
      "0.617502586002\n",
      "10.7624438378 seconds process time\n"
     ]
    },
    {
     "data": {
      "image/png": "[encoded data removed]",
      "text/plain": [
       "<matplotlib.figure.Figure at 0x1f73c860>"
      ]
     },
     "metadata": {},
     "output_type": "display_data"
    }
   ],
   "source": [
    "# measure process time\n",
    "t0 = time.clock()\n",
    "\n",
    "from sklearn.ensemble import BaggingClassifier\n",
    "X = X_train\n",
    "y = y_train\n",
    "\n",
    "#Find the best no of estimators\n",
    "bag_n=range(1, 8, 1)\n",
    "bag_auc_val= []\n",
    "for n in bag_n:\n",
    "    bag=BaggingClassifier(tree,n_estimators=n, random_state=1)\n",
    "    bag_10cv_auc = cross_val_score(bag, X, y, cv=10, scoring='roc_auc')\n",
    "    bag_auc_val.append(bag_10cv_auc.mean())\n",
    "print bag_auc_val\n",
    "\n",
    "# plot the values of n for Bag \n",
    "import matplotlib.pyplot as plt\n",
    "%matplotlib inline\n",
    "plt.plot(bag_n, bag_auc_val, linewidth=2.0)\n",
    "plt.xlabel('n ')\n",
    "plt.ylabel('AUC')\n",
    "plt.title('BAG: optimal n')\n",
    "plt.grid(True)   \n",
    "\n",
    "# use optimal n\n",
    "bag=BaggingClassifier(tree,n_estimators=7, random_state=1)\n",
    "bag.fit(X,y)\n",
    "from sklearn.cross_validation import cross_val_score\n",
    "bag_10cv_auc=cross_val_score(bag, X, y, cv=10, scoring='roc_auc')\n",
    "print bag_10cv_auc\n",
    "print bag_10cv_auc.mean()\n",
    "\n",
    "print time.clock() - t0, \"seconds process time\"\n",
    "bag_time=time.clock() - t0"
   ]
  },
  {
   "cell_type": "markdown",
   "metadata": {},
   "source": [
    "> 4.6 Random Forest"
   ]
  },
  {
   "cell_type": "code",
   "execution_count": 47,
   "metadata": {
    "collapsed": false
   },
   "outputs": [
    {
     "name": "stdout",
     "output_type": "stream",
     "text": [
      "[0.5142770041998237, 0.52590140634011362, 0.52997436914011231, 0.5339678691361841, 0.53740149979755647, 0.53906623614093419, 0.54014275652270016]\n",
      "[ 0.53563897  0.54549038  0.52957326  0.5326644   0.53238018  0.53543758\n",
      "  0.55120393  0.55061577  0.54331239  0.5451107 ]\n",
      "0.540142756523\n",
      "13.1176699296 seconds process time\n"
     ]
    },
    {
     "data": {
      "image/png": "[encoded data removed]",
      "text/plain": [
       "<matplotlib.figure.Figure at 0x20f570b8>"
      ]
     },
     "metadata": {},
     "output_type": "display_data"
    }
   ],
   "source": [
    "# measure process time\n",
    "t0 = time.clock()\n",
    "\n",
    "from sklearn.ensemble import RandomForestClassifier\n",
    "X = X_train\n",
    "y = y_train\n",
    "\n",
    "#Find the best no of estimators\n",
    "rf_n=range(1, 8, 1)\n",
    "rf_auc_val= []\n",
    "for n in rf_n:\n",
    "    rf = RandomForestClassifier(n_estimators=n, random_state=1)\n",
    "    rf_10cv_auc = cross_val_score(rf, X, y, cv=10, scoring='roc_auc')\n",
    "    rf_auc_val.append(rf_10cv_auc.mean())\n",
    "print rf_auc_val\n",
    "\n",
    "# plot the no of estimators vc cv_auc\n",
    "import matplotlib.pyplot as plt\n",
    "%matplotlib inline\n",
    "plt.plot(rf_n, rf_auc_val, linewidth=2.0)\n",
    "plt.xlabel('n')\n",
    "plt.ylabel('AUC')\n",
    "plt.title('RF: optimal n')\n",
    "plt.grid(True)    \n",
    "\n",
    "# use optimal n\n",
    "rf = RandomForestClassifier(n_estimators=7, random_state=1)\n",
    "rf.fit(X,y)\n",
    "from sklearn.cross_validation import cross_val_score\n",
    "rf_10cv_auc = cross_val_score(rf, X, y, cv=10, scoring='roc_auc')\n",
    "print rf_10cv_auc\n",
    "print rf_10cv_auc.mean()\n",
    "\n",
    "\n",
    "print time.clock() - t0, \"seconds process time\"\n",
    "rf_time=time.clock() - t0"
   ]
  },
  {
   "cell_type": "markdown",
   "metadata": {},
   "source": [
    "> 4.7 SVM Polynomial - (still running... >20 hrs)"
   ]
  },
  {
   "cell_type": "code",
   "execution_count": 10,
   "metadata": {
    "collapsed": false
   },
   "outputs": [],
   "source": [
    "# measure process time\n",
    "#t0 = time.clock()\n",
    "\n",
    "#from sklearn import svm\n",
    "#svmp = svm.SVC(kernel='poly', C = 1.0, degree=3)\n",
    "#X = X_train\n",
    "#y = y_train\n",
    "#svmp.fit(X,y)\n",
    "#from sklearn.cross_validation import cross_val_score\n",
    "#svmp_10cv_auc = cross_val_score(svmp, X, y, cv=10, scoring='roc_auc')\n",
    "#print svmp_10cv_auc\n",
    "#svmp_10cv_auc.mean()\n",
    "\n",
    "#print time.clock() - t0, \"seconds process time\"\n",
    "#svmp_time=time.clock() - t0"
   ]
  },
  {
   "cell_type": "markdown",
   "metadata": {},
   "source": [
    "4.8 SVM Gaussian"
   ]
  },
  {
   "cell_type": "code",
   "execution_count": 11,
   "metadata": {
    "collapsed": false
   },
   "outputs": [],
   "source": [
    "# measure process time\n",
    "#t0 = time.clock()\n",
    "\n",
    "#from sklearn import svm\n",
    "#svmg = svm.SVC(kernel='rbf', C = 1.0, gamma=0.5)\n",
    "#X = X_train\n",
    "#y = y_train\n",
    "#svmg.fit(X,y)\n",
    "#from sklearn.cross_validation import cross_val_score\n",
    "#svmg_10cv_auc = cross_val_score(svmg, X, y, cv=10, scoring='roc_auc')\n",
    "#print svmg_10cv_auc\n",
    "#svmg_10cv_auc.mean()\n",
    "\n",
    "\n",
    "#print time.clock() - t0, \"seconds process time\"\n",
    "#svmg_time=time.clock() - t0"
   ]
  },
  {
   "cell_type": "markdown",
   "metadata": {},
   "source": [
    "> 4.9 Tabulate 10cv_auc_means & time"
   ]
  },
  {
   "cell_type": "code",
   "execution_count": 48,
   "metadata": {
    "collapsed": false
   },
   "outputs": [
    {
     "name": "stdout",
     "output_type": "stream",
     "text": [
      "NB 10CV AUC.mean & process time\n",
      "0.579830647097\n",
      "0.530858592506\n",
      "KNN 10CV AUC.mean & process time\n",
      "0.549569343837\n",
      "14.9114118774\n",
      "LG 10CV AUC.mean & process time\n",
      "0.636996097985\n",
      "2.45573703091\n",
      "TREE 10CV AUC.mean & process time\n",
      "0.606870554387\n",
      "0.614546216346\n",
      "BAG 10CV AUC.mean & process time\n",
      "0.617502586002\n",
      "10.7624936457\n",
      "RF 10CV AUC.mean & process time\n",
      "0.540142756523\n",
      "13.1177197376\n",
      "SVMP 10CV AUC.mean & process time\n",
      "still running >20hrs\n",
      "SVMG 10CV AUC.mean & process time\n"
     ]
    }
   ],
   "source": [
    "print 'NB 10CV AUC.mean & process time'\n",
    "print nb_10cv_auc.mean()\n",
    "print nb_time\n",
    "print 'KNN 10CV AUC.mean & process time'\n",
    "print knn_10cv_auc.mean()\n",
    "print knn_time\n",
    "print 'LG 10CV AUC.mean & process time'\n",
    "print lg_10cv_auc.mean()\n",
    "print lg_time\n",
    "print 'TREE 10CV AUC.mean & process time'\n",
    "print tree_10cv_auc.mean()\n",
    "print tree_time\n",
    "print 'BAG 10CV AUC.mean & process time'\n",
    "print bag_10cv_auc.mean()\n",
    "print bag_time\n",
    "print 'RF 10CV AUC.mean & process time'\n",
    "print rf_10cv_auc.mean()\n",
    "print rf_time\n",
    "print 'SVMP 10CV AUC.mean & process time'\n",
    "print 'still running >20hrs'\n",
    "#print svmp_10cv_auc.mean()\n",
    "#print svmp_time\n",
    "print 'SVMG 10CV AUC.mean & process time'\n",
    "#print svmg_10cv_auc.mean()\n",
    "#print svmg_time"
   ]
  },
  {
   "cell_type": "code",
   "execution_count": 49,
   "metadata": {
    "collapsed": false
   },
   "outputs": [
    {
     "name": "stdout",
     "output_type": "stream",
     "text": [
      "0.585896788633\n",
      "0.550306888647\n",
      "0.645343494916\n",
      "0.607047138061\n",
      "0.61639217142\n",
      "0.554325505707\n",
      "0.416213665853 seconds process time\n"
     ]
    },
    {
     "data": {
      "image/png": "[encoded data removed]",
      "text/plain": [
       "<matplotlib.figure.Figure at 0x1ff71e80>"
      ]
     },
     "metadata": {},
     "output_type": "display_data"
    }
   ],
   "source": [
    "# measure process time\n",
    "t0 = time.clock()\n",
    "\n",
    "# If not, use the following; adds also more features....\n",
    "import matplotlib.patches as mpatches\n",
    "import matplotlib.pyplot as plt\n",
    "%matplotlib inline\n",
    "# NB:\n",
    "y_pred_prob = nb.predict_proba(X_test)[:, 1]\n",
    "nb_auc=metrics.roc_auc_score(y_test, y_pred_prob)\n",
    "print metrics.roc_auc_score(y_test, y_pred_prob)\n",
    "nb_fpr, nb_tpr, nb_thresholds = metrics.roc_curve(y_test, y_pred_prob)\n",
    "# KNN:\n",
    "y_pred_prob = knn.predict_proba(X_test)[:, 1]\n",
    "knn_auc=metrics.roc_auc_score(y_test, y_pred_prob)\n",
    "print metrics.roc_auc_score(y_test, y_pred_prob)\n",
    "knn_fpr, knn_tpr, knn_thresholds = metrics.roc_curve(y_test, y_pred_prob)\n",
    "# LG:\n",
    "y_pred_prob = logreg.predict_proba(X_test)[:, 1]\n",
    "logreg_auc=metrics.roc_auc_score(y_test, y_pred_prob)\n",
    "print metrics.roc_auc_score(y_test, y_pred_prob)\n",
    "lg_fpr, lg_tpr, lg_thresholds = metrics.roc_curve(y_test, y_pred_prob)\n",
    "#TREE:\n",
    "y_pred_prob = tree.predict_proba(X_test)[:, 1]\n",
    "tree_auc=metrics.roc_auc_score(y_test, y_pred_prob)\n",
    "print metrics.roc_auc_score(y_test, y_pred_prob)\n",
    "tree_fpr, tree_tpr, tree_thresholds = metrics.roc_curve(y_test, y_pred_prob)\n",
    "# BAG:\n",
    "y_pred_prob = bag.predict_proba(X_test)[:, 1]\n",
    "bag_auc=metrics.roc_auc_score(y_test, y_pred_prob)\n",
    "print metrics.roc_auc_score(y_test, y_pred_prob)\n",
    "bag_fpr, bag_tpr, bag_thresholds = metrics.roc_curve(y_test, y_pred_prob)\n",
    "# RF:\n",
    "y_pred_prob = rf.predict_proba(X_test)[:, 1]\n",
    "rf_auc=metrics.roc_auc_score(y_test, y_pred_prob)\n",
    "print metrics.roc_auc_score(y_test, y_pred_prob)\n",
    "rf_fpr, rf_tpr, rf_thresholds = metrics.roc_curve(y_test, y_pred_prob)\n",
    "\n",
    "plt.plot(nb_fpr, nb_tpr, knn_fpr, knn_tpr, lg_fpr, lg_tpr, tree_fpr, tree_tpr, bag_fpr, bag_tpr,rf_fpr, rf_tpr, linewidth=2.0)\n",
    "plt.xlim([0.0, 1.0])\n",
    "plt.ylim([0.0, 1.0])\n",
    "plt.title('ROC Curves')\n",
    "plt.xlabel('False Positive Rate (1 - Specificity)')\n",
    "plt.ylabel('True Positive Rate (Sensitivity)')\n",
    "nb = mpatches.Patch(color='blue', label='nb')\n",
    "knn= mpatches.Patch(color='green', label='knn')\n",
    "lg = mpatches.Patch(color='red', label='lg')\n",
    "tree = mpatches.Patch(color='cyan', label='tree')\n",
    "bag = mpatches.Patch(color='magenta', label='bag')\n",
    "rf = mpatches.Patch(color='yellow', label='rf')\n",
    "plt.legend(handles=[nb,knn,lg,tree,bag,rf], loc=4)\n",
    "plt.grid(True)\n",
    "\n",
    "\n",
    "print time.clock() - t0, \"seconds process time\"\n",
    "plot_time=time.clock() - t0"
   ]
  },
  {
   "cell_type": "markdown",
   "metadata": {},
   "source": [
    "> 4.10 Feature selection\n",
    "> \n",
    "> Recursive feature elimination: recursively removing attributes and building a model on those attributes that remain. \n",
    "> It uses the model accuracy to identify which attributes (and combination of attributes) contribute the most \n",
    "> to predicting the target attribute."
   ]
  },
  {
   "cell_type": "code",
   "execution_count": 50,
   "metadata": {
    "collapsed": false
   },
   "outputs": [
    {
     "name": "stdout",
     "output_type": "stream",
     "text": [
      "Best three features:\n",
      "[False False  True  True False  True False False]\n",
      "[4 6 1 1 5 1 3 2]\n",
      "Best two features:\n",
      "[False False  True  True False False False False]\n",
      "[5 7 1 1 6 2 4 3]\n"
     ]
    },
    {
     "data": {
      "text/html": [
       "<div>\n",
       "<table border=\"1\" class=\"dataframe\">\n",
       "  <thead>\n",
       "    <tr style=\"text-align: right;\">\n",
       "      <th></th>\n",
       "      <th>recency</th>\n",
       "      <th>history</th>\n",
       "      <th>mens</th>\n",
       "      <th>womens</th>\n",
       "      <th>Location</th>\n",
       "      <th>newbie</th>\n",
       "      <th>Purchase_channel</th>\n",
       "      <th>Campaign_type</th>\n",
       "    </tr>\n",
       "  </thead>\n",
       "  <tbody>\n",
       "    <tr>\n",
       "      <th>28079</th>\n",
       "      <td>2</td>\n",
       "      <td>65.16</td>\n",
       "      <td>0</td>\n",
       "      <td>1</td>\n",
       "      <td>0</td>\n",
       "      <td>1</td>\n",
       "      <td>0</td>\n",
       "      <td>0</td>\n",
       "    </tr>\n",
       "    <tr>\n",
       "      <th>17190</th>\n",
       "      <td>1</td>\n",
       "      <td>312.07</td>\n",
       "      <td>0</td>\n",
       "      <td>1</td>\n",
       "      <td>2</td>\n",
       "      <td>0</td>\n",
       "      <td>1</td>\n",
       "      <td>2</td>\n",
       "    </tr>\n",
       "    <tr>\n",
       "      <th>2507</th>\n",
       "      <td>4</td>\n",
       "      <td>301.02</td>\n",
       "      <td>0</td>\n",
       "      <td>1</td>\n",
       "      <td>0</td>\n",
       "      <td>0</td>\n",
       "      <td>0</td>\n",
       "      <td>1</td>\n",
       "    </tr>\n",
       "    <tr>\n",
       "      <th>5156</th>\n",
       "      <td>7</td>\n",
       "      <td>128.50</td>\n",
       "      <td>0</td>\n",
       "      <td>1</td>\n",
       "      <td>2</td>\n",
       "      <td>1</td>\n",
       "      <td>1</td>\n",
       "      <td>2</td>\n",
       "    </tr>\n",
       "    <tr>\n",
       "      <th>35216</th>\n",
       "      <td>4</td>\n",
       "      <td>120.72</td>\n",
       "      <td>0</td>\n",
       "      <td>1</td>\n",
       "      <td>2</td>\n",
       "      <td>1</td>\n",
       "      <td>1</td>\n",
       "      <td>1</td>\n",
       "    </tr>\n",
       "  </tbody>\n",
       "</table>\n",
       "</div>"
      ],
      "text/plain": [
       "       recency  history  mens  womens  Location  newbie  Purchase_channel  \\\n",
       "28079        2    65.16     0       1         0       1                 0   \n",
       "17190        1   312.07     0       1         2       0                 1   \n",
       "2507         4   301.02     0       1         0       0                 0   \n",
       "5156         7   128.50     0       1         2       1                 1   \n",
       "35216        4   120.72     0       1         2       1                 1   \n",
       "\n",
       "       Campaign_type  \n",
       "28079              0  \n",
       "17190              2  \n",
       "2507               1  \n",
       "5156               2  \n",
       "35216              1  "
      ]
     },
     "execution_count": 50,
     "metadata": {},
     "output_type": "execute_result"
    }
   ],
   "source": [
    "# Recursive Feature Elimination 3 vars\n",
    "from sklearn.linear_model import LogisticRegression\n",
    "from sklearn.feature_selection import RFE\n",
    "X = X_train\n",
    "y = y_train\n",
    "X.shape\n",
    "model = LogisticRegression()\n",
    "rfe = RFE(model, 3)\n",
    "rfe=rfe.fit(X,y)\n",
    "# summarize the selection of the attributes\n",
    "print 'Best three features:'\n",
    "print(rfe.support_)\n",
    "print(rfe.ranking_)\n",
    "X_train.head()\n",
    "\n",
    "# Recursive Feature Elimination 2 vars\n",
    "from sklearn.linear_model import LogisticRegression\n",
    "from sklearn.feature_selection import RFE\n",
    "X = X_train\n",
    "y = y_train\n",
    "X.shape\n",
    "model = LogisticRegression()\n",
    "rfe = RFE(model, 2)\n",
    "rfe=rfe.fit(X,y)\n",
    "# summarize the selection of the attributes\n",
    "print 'Best two features:'\n",
    "print(rfe.support_)\n",
    "print(rfe.ranking_)\n",
    "X_train.head()"
   ]
  },
  {
   "cell_type": "code",
   "execution_count": 51,
   "metadata": {
    "collapsed": false
   },
   "outputs": [
    {
     "name": "stdout",
     "output_type": "stream",
     "text": [
      "LG with all seven predictors:\n",
      "[ 0.64243634  0.64564644  0.64579946  0.61983594  0.61726966  0.62933077\n",
      "  0.6477608   0.6452407   0.64036973  0.63627114]\n",
      "0.636996097985\n",
      "LG with best three predictors:\n",
      "[ 0.59215059  0.60419999  0.60748646  0.59103196  0.57235628  0.59758944\n",
      "  0.59391464  0.59930583  0.61237697  0.60439055]\n",
      "0.597480271641\n"
     ]
    }
   ],
   "source": [
    "#-----------------------------------------------------------------------------\n",
    "# Logistic Regression: all prediction variables\n",
    "#-----------------------------------------------------------------------------\n",
    "from sklearn.linear_model import LogisticRegression\n",
    "logreg = LogisticRegression(C=1e9)\n",
    "X = X_train\n",
    "y = y_train\n",
    "logreg.fit(X, y)\n",
    "lg_pred_rating = logreg.predict(X) # class predictions\n",
    "from sklearn import metrics\n",
    "# print metrics.accuracy_score(y_test, y_pred_rating)\n",
    "# 10 fold cross-validation\n",
    "from sklearn.cross_validation import cross_val_score\n",
    "lg_10cv_auc = cross_val_score(logreg, X, y, cv=10, scoring='roc_auc')\n",
    "print 'LG with all seven predictors:'\n",
    "print lg_10cv_auc\n",
    "print lg_10cv_auc.mean()\n",
    "\n",
    "#-----------------------------------------------------------------------------\n",
    "# Logistic Regression: best 3 variables\n",
    "#-----------------------------------------------------------------------------\n",
    "\n",
    "X_cols=[  'mens', 'womens', 'newbie']\n",
    "X=df[X_cols]\n",
    "Y=df.visit\n",
    "\n",
    "from sklearn.cross_validation import train_test_split\n",
    "X_train, X_test, y_train, y_test = train_test_split(X, Y, random_state=1234567)\n",
    "\n",
    "from sklearn.linear_model import LogisticRegression\n",
    "logreg = LogisticRegression(C=1e9)\n",
    "X = X_train\n",
    "y = y_train\n",
    "logreg.fit(X, y)\n",
    "lg_pred_rating = logreg.predict(X) # class predictions\n",
    "from sklearn import metrics\n",
    "# print metrics.accuracy_score(y_test, y_pred_rating)\n",
    "# 10 fold cross-validation\n",
    "from sklearn.cross_validation import cross_val_score\n",
    "lg_10cv_auc = cross_val_score(logreg, X, y, cv=10, scoring='roc_auc')\n",
    "print \"LG with best three predictors:\"\n",
    "print lg_10cv_auc\n",
    "print lg_10cv_auc.mean()"
   ]
  },
  {
   "cell_type": "markdown",
   "metadata": {},
   "source": [
    "#### 5. Objective 2: develop models to predict if customers who visited the website actually purchased something"
   ]
  },
  {
   "cell_type": "code",
   "execution_count": 52,
   "metadata": {
    "collapsed": false
   },
   "outputs": [
    {
     "name": "stdout",
     "output_type": "stream",
     "text": [
      "(7045, 8)\n",
      "(2349, 8)\n"
     ]
    }
   ],
   "source": [
    "df2=df[(df.visit==1)]\n",
    "X_cols=[ 'recency', 'history',  'mens', 'womens', 'Location', 'newbie', 'Purchase_channel', 'Campaign_type']\n",
    "X=df2[X_cols]\n",
    "Y=df2.conversion\n",
    "\n",
    "from sklearn.cross_validation import train_test_split\n",
    "X_train, X_test, y_train, y_test = train_test_split(X, Y, random_state=1234567)\n",
    "\n",
    "print X_train.shape\n",
    "print X_test.shape"
   ]
  },
  {
   "cell_type": "markdown",
   "metadata": {},
   "source": [
    "> 5.1 Naive Bayes"
   ]
  },
  {
   "cell_type": "code",
   "execution_count": 53,
   "metadata": {
    "collapsed": false
   },
   "outputs": [
    {
     "name": "stdout",
     "output_type": "stream",
     "text": [
      "[ 0.55885023  0.53410657  0.5882272   0.50094697  0.51921488  0.55425275\n",
      "  0.55451102  0.52491391  0.49368113  0.50792011]\n",
      "0.533662477477\n",
      "0.109638774616 seconds process time\n"
     ]
    }
   ],
   "source": [
    "import time\n",
    "# measure process time\n",
    "t0 = time.clock()\n",
    "\n",
    "from sklearn.naive_bayes import MultinomialNB\n",
    "nb= MultinomialNB()\n",
    "X = X_train\n",
    "y = y_train\n",
    "nb.fit(X, y)\n",
    "y_pred_rating=nb.predict(X_test)\n",
    "from sklearn import metrics\n",
    "# print metrics.accuracy_score(y_test, y_pred_rating)\n",
    "# 10 fold cross-validation\n",
    "from sklearn.cross_validation import cross_val_score\n",
    "nb_10cv_auc = cross_val_score(nb, X, y, cv=10, scoring='roc_auc')\n",
    "print nb_10cv_auc\n",
    "print nb_10cv_auc.mean()\n",
    "\n",
    "print time.clock() - t0, \"seconds process time\"\n",
    "nb_time=time.clock() - t0"
   ]
  },
  {
   "cell_type": "markdown",
   "metadata": {},
   "source": [
    "> 5.2 KNN"
   ]
  },
  {
   "cell_type": "code",
   "execution_count": 55,
   "metadata": {
    "collapsed": false
   },
   "outputs": [
    {
     "name": "stdout",
     "output_type": "stream",
     "text": [
      "[0.50082229251669486, 0.49907455364399045, 0.50134658022947121, 0.51460012117461229, 0.52530702170237653, 0.52051138707943134, 0.51602518271700648]\n",
      "[ 0.50895949  0.49821819  0.52910535  0.54352617  0.55487259  0.52556818\n",
      "  0.48032025  0.54077135  0.52203857  0.54969008]\n",
      "0.525307021702\n",
      "1.23881554877 seconds process time\n"
     ]
    },
    {
     "data": {
      "image/png": "[encoded data removed]",
      "text/plain": [
       "<matplotlib.figure.Figure at 0x19584b38>"
      ]
     },
     "metadata": {},
     "output_type": "display_data"
    }
   ],
   "source": [
    "t0 = time.clock()\n",
    "\n",
    "from sklearn.neighbors import KNeighborsClassifier\n",
    "\n",
    "X = X_train\n",
    "y = y_train\n",
    "# search for an optimal value of K for KNN\n",
    "k_range = range(1, 8)\n",
    "k_val = []\n",
    "for k in k_range:\n",
    "   knn = KNeighborsClassifier(n_neighbors=k)\n",
    "   scores = cross_val_score(knn, X, y, cv=10, scoring='roc_auc')\n",
    "   k_val.append(scores.mean())\n",
    "print k_val\n",
    "\n",
    "# plot the values of K for KNN \n",
    "import matplotlib.pyplot as plt\n",
    "%matplotlib inline\n",
    "plt.plot(k_range, k_val, linewidth=2.0)\n",
    "plt.xlabel('K ')\n",
    "plt.ylabel('AUC')\n",
    "plt.title('KNN: optimal k')\n",
    "plt.grid(True)\n",
    "\n",
    "# use optimal k\n",
    "knn = KNeighborsClassifier(n_neighbors=5)\n",
    "knn.fit(X, y)\n",
    "knn_pred_rating = knn.predict(X) # class predictions\n",
    "from sklearn import metrics\n",
    "# print metrics.accuracy_score(y_test, y_pred_rating)\n",
    "# 10 fold cross-validation\n",
    "from sklearn.cross_validation import cross_val_score\n",
    "knn_10cv_auc = cross_val_score(knn, X, y, cv=10, scoring='roc_auc')\n",
    "print knn_10cv_auc\n",
    "print knn_10cv_auc.mean()\n",
    "\n",
    "print time.clock() - t0, \"seconds process time\"\n",
    "knn_time=time.clock() - t0"
   ]
  },
  {
   "cell_type": "markdown",
   "metadata": {},
   "source": [
    "> 5.3 Logistic Regression"
   ]
  },
  {
   "cell_type": "code",
   "execution_count": 56,
   "metadata": {
    "collapsed": false
   },
   "outputs": [
    {
     "name": "stdout",
     "output_type": "stream",
     "text": [
      "[ 0.55928728  0.44501597  0.57543667  0.58076791  0.51673554  0.54881198\n",
      "  0.56394628  0.59230372  0.4710916   0.4934573 ]\n",
      "0.534685423552\n",
      "0.417527690203 seconds process time\n"
     ]
    }
   ],
   "source": [
    "# measure process time\n",
    "t0 = time.clock()\n",
    "\n",
    "from sklearn.linear_model import LogisticRegression\n",
    "logreg = LogisticRegression(C=1e9)\n",
    "X = X_train\n",
    "y = y_train\n",
    "logreg.fit(X, y)\n",
    "lg_pred_rating = logreg.predict(X) # class predictions\n",
    "from sklearn import metrics\n",
    "# print metrics.accuracy_score(y_test, y_pred_rating)\n",
    "# 10 fold cross-validation\n",
    "from sklearn.cross_validation import cross_val_score\n",
    "lg_10cv_auc = cross_val_score(logreg, X, y, cv=10, scoring='roc_auc')\n",
    "print lg_10cv_auc\n",
    "print lg_10cv_auc.mean()\n",
    "\n",
    "print time.clock() - t0, \"seconds process time\"\n",
    "lg_time=time.clock() - t0"
   ]
  },
  {
   "cell_type": "markdown",
   "metadata": {},
   "source": [
    "> 5.4 Tree"
   ]
  },
  {
   "cell_type": "code",
   "execution_count": 57,
   "metadata": {
    "collapsed": false
   },
   "outputs": [
    {
     "name": "stdout",
     "output_type": "stream",
     "text": [
      "[ 0.59939486  0.54222558  0.55262344  0.4780303   0.47975207  0.50926309\n",
      "  0.46825069  0.46585744  0.49168388  0.51363636]\n",
      "0.510071770518\n",
      "0.110781640728 seconds process time\n"
     ]
    }
   ],
   "source": [
    "# measure process time\n",
    "t0 = time.clock()\n",
    "\n",
    "from sklearn.tree import DecisionTreeClassifier\n",
    "tree = DecisionTreeClassifier(max_depth=3, random_state=1)\n",
    "X = X_train\n",
    "y = y_train\n",
    "tree.fit(X,y)\n",
    "from sklearn.cross_validation import cross_val_score\n",
    "tree_10cv_auc = cross_val_score(tree, X, y, cv=10, scoring='roc_auc')\n",
    "print tree_10cv_auc\n",
    "print tree_10cv_auc.mean()\n",
    "\n",
    "\n",
    "print time.clock() - t0, \"seconds process time\"\n",
    "tree_time=time.clock() - t0"
   ]
  },
  {
   "cell_type": "markdown",
   "metadata": {},
   "source": [
    "> 5.5 Bagging"
   ]
  },
  {
   "cell_type": "code",
   "execution_count": 58,
   "metadata": {
    "collapsed": false
   },
   "outputs": [
    {
     "name": "stdout",
     "output_type": "stream",
     "text": [
      "[0.51898276187816827, 0.52231749224468582, 0.52103321153357252, 0.52622473184603558, 0.51446142417157403, 0.52329202057016322, 0.52462617944678525]\n",
      "[ 0.53086233  0.45942175  0.54971806  0.5851584   0.52737603  0.53495179\n",
      "  0.57234848  0.55470041  0.48911846  0.4585916 ]\n",
      "0.526224731846\n",
      "1.57578264896 seconds process time\n"
     ]
    },
    {
     "data": {
      "image/png": "[encoded data removed]",
      "text/plain": [
       "<matplotlib.figure.Figure at 0x20209128>"
      ]
     },
     "metadata": {},
     "output_type": "display_data"
    }
   ],
   "source": [
    "# measure process time\n",
    "t0 = time.clock()\n",
    "\n",
    "from sklearn.ensemble import BaggingClassifier\n",
    "X = X_train\n",
    "y = y_train\n",
    "\n",
    "#Find the best no of estimators\n",
    "bag_n=range(1, 8, 1)\n",
    "bag_auc_val= []\n",
    "for n in bag_n:\n",
    "    bag=BaggingClassifier(tree,n_estimators=n, random_state=1)\n",
    "    bag_10cv_auc = cross_val_score(bag, X, y, cv=10, scoring='roc_auc')\n",
    "    bag_auc_val.append(bag_10cv_auc.mean())\n",
    "print bag_auc_val\n",
    "\n",
    "# plot the values of n for Bag \n",
    "import matplotlib.pyplot as plt\n",
    "%matplotlib inline\n",
    "plt.plot(bag_n, bag_auc_val, linewidth=2.0)\n",
    "plt.xlabel('n ')\n",
    "plt.ylabel('AUC')\n",
    "plt.title('BAG: optimal n')\n",
    "plt.grid(True)\n",
    "\n",
    "# use optimal n\n",
    "bag=BaggingClassifier(tree,n_estimators=4, random_state=1)\n",
    "bag.fit(X,y)\n",
    "from sklearn.cross_validation import cross_val_score\n",
    "bag_10cv_auc=cross_val_score(bag, X, y, cv=10, scoring='roc_auc')\n",
    "print bag_10cv_auc\n",
    "print bag_10cv_auc.mean()\n",
    "\n",
    "print time.clock() - t0, \"seconds process time\"\n",
    "bag_time=time.clock() - t0"
   ]
  },
  {
   "cell_type": "markdown",
   "metadata": {},
   "source": [
    "5.6 Random Forest"
   ]
  },
  {
   "cell_type": "code",
   "execution_count": 59,
   "metadata": {
    "collapsed": false
   },
   "outputs": [
    {
     "name": "stdout",
     "output_type": "stream",
     "text": [
      "[0.49873936205682179, 0.49465369466220449, 0.49431561610465824, 0.4931668875524603, 0.49471814399669922, 0.49182517393019731, 0.4934835287269615]\n",
      "[ 0.49934443  0.50706001  0.50168478  0.56287879  0.47661846  0.51680441\n",
      "  0.48419421  0.49480028  0.46742424  0.47658402]\n",
      "0.498739362057\n",
      "1.52780189355 seconds process time\n"
     ]
    },
    {
     "data": {
      "image/png": "[encoded data removed]",
      "text/plain": [
       "<matplotlib.figure.Figure at 0x19575668>"
      ]
     },
     "metadata": {},
     "output_type": "display_data"
    }
   ],
   "source": [
    "# measure process time\n",
    "t0 = time.clock()\n",
    "\n",
    "from sklearn.ensemble import RandomForestClassifier\n",
    "X = X_train\n",
    "y = y_train\n",
    "\n",
    "#Find the best no of estimators\n",
    "rf_n=range(1, 8, 1)\n",
    "rf_auc_val= []\n",
    "for n in rf_n:\n",
    "    rf = RandomForestClassifier(n_estimators=n, random_state=1)\n",
    "    rf_10cv_auc = cross_val_score(rf, X, y, cv=10, scoring='roc_auc')\n",
    "    rf_auc_val.append(rf_10cv_auc.mean())\n",
    "print rf_auc_val\n",
    "\n",
    "# plot the no of estimators vc cv_auc\n",
    "import matplotlib.pyplot as plt\n",
    "%matplotlib inline\n",
    "plt.plot(rf_n, rf_auc_val, linewidth=2.0)\n",
    "plt.xlabel('n')\n",
    "plt.ylabel('AUC')\n",
    "plt.title('RF: optimal n')\n",
    "plt.grid(True)    \n",
    "\n",
    "# use optimal n\n",
    "rf = RandomForestClassifier(n_estimators=1, random_state=1)\n",
    "rf.fit(X,y)\n",
    "from sklearn.cross_validation import cross_val_score\n",
    "rf_10cv_auc = cross_val_score(rf, X, y, cv=10, scoring='roc_auc')\n",
    "print rf_10cv_auc\n",
    "print rf_10cv_auc.mean()\n",
    "\n",
    "\n",
    "print time.clock() - t0, \"seconds process time\"\n",
    "rf_time=time.clock() - t0"
   ]
  },
  {
   "cell_type": "markdown",
   "metadata": {},
   "source": [
    "> 5.7 SVM Polynomial"
   ]
  },
  {
   "cell_type": "code",
   "execution_count": 23,
   "metadata": {
    "collapsed": true
   },
   "outputs": [],
   "source": [
    "# measure process time\n",
    "#t0 = time.clock()\n",
    "\n",
    "#from sklearn import svm\n",
    "#svmp = svm.SVC(kernel='poly', C = 1.0, degree=3)\n",
    "#X = X_train\n",
    "#y = y_train\n",
    "#svmp.fit(X,y)\n",
    "#from sklearn.cross_validation import cross_val_score\n",
    "#svmp_10cv_auc = cross_val_score(svmp, X, y, cv=10, scoring='roc_auc')\n",
    "#print svmp_10cv_auc\n",
    "#svmp_10cv_auc.mean()\n",
    "\n",
    "#print time.clock() - t0, \"seconds process time\"\n",
    "#svmp_time=time.clock() - t0"
   ]
  },
  {
   "cell_type": "markdown",
   "metadata": {},
   "source": [
    "> 5.8 SVM Gaussian"
   ]
  },
  {
   "cell_type": "code",
   "execution_count": 24,
   "metadata": {
    "collapsed": true
   },
   "outputs": [],
   "source": [
    "# measure process time\n",
    "#t0 = time.clock()\n",
    "\n",
    "#from sklearn import svm\n",
    "#svmg = svm.SVC(kernel='rbf', C = 1.0, gamma=0.5)\n",
    "#X = X_train\n",
    "#y = y_train\n",
    "#svmg.fit(X,y)\n",
    "#from sklearn.cross_validation import cross_val_score\n",
    "#svmg_10cv_auc = cross_val_score(svmg, X, y, cv=10, scoring='roc_auc')\n",
    "#print svmg_10cv_auc\n",
    "#svmg_10cv_auc.mean()\n",
    "\n",
    "\n",
    "#print time.clock() - t0, \"seconds process time\"\n",
    "#svmg_time=time.clock() - t0"
   ]
  },
  {
   "cell_type": "markdown",
   "metadata": {},
   "source": [
    "> 5.9 Tabulate 10cv_auc_means & time"
   ]
  },
  {
   "cell_type": "code",
   "execution_count": 60,
   "metadata": {
    "collapsed": false
   },
   "outputs": [
    {
     "name": "stdout",
     "output_type": "stream",
     "text": [
      "NB 10CV AUC.mean & process time\n",
      "0.533662477477\n",
      "0.109703675887\n",
      "KNN 10CV AUC.mean & process time\n",
      "0.525307021702\n",
      "1.23886565859\n",
      "LG 10CV AUC.mean & process time\n",
      "0.534685423552\n",
      "0.417611609056\n",
      "TREE 10CV AUC.mean & process time\n",
      "0.510071770518\n",
      "0.110830844948\n",
      "BAG 10CV AUC.mean & process time\n",
      "0.526224731846\n",
      "1.57583306065\n",
      "RF 10CV AUC.mean & process time\n",
      "0.498739362057\n",
      "1.52785653136\n",
      "SVMG 10CV AUC.mean & process time\n",
      "SVMP 10CV AUC.mean & process time\n"
     ]
    }
   ],
   "source": [
    "print 'NB 10CV AUC.mean & process time'\n",
    "print nb_10cv_auc.mean()\n",
    "print nb_time\n",
    "print 'KNN 10CV AUC.mean & process time'\n",
    "print knn_10cv_auc.mean()\n",
    "print knn_time\n",
    "print 'LG 10CV AUC.mean & process time'\n",
    "print lg_10cv_auc.mean()\n",
    "print lg_time\n",
    "print 'TREE 10CV AUC.mean & process time'\n",
    "print tree_10cv_auc.mean()\n",
    "print tree_time\n",
    "print 'BAG 10CV AUC.mean & process time'\n",
    "print bag_10cv_auc.mean()\n",
    "print bag_time\n",
    "print 'RF 10CV AUC.mean & process time'\n",
    "print rf_10cv_auc.mean()\n",
    "print rf_time\n",
    "print 'SVMG 10CV AUC.mean & process time'\n",
    "#print svmp_10cv_auc.mean()\n",
    "#print svmp_time\n",
    "print 'SVMP 10CV AUC.mean & process time'\n",
    "#print svmg_10cv_auc.mean()\n",
    "#print svmg_time\n"
   ]
  },
  {
   "cell_type": "code",
   "execution_count": 61,
   "metadata": {
    "collapsed": false
   },
   "outputs": [
    {
     "name": "stdout",
     "output_type": "stream",
     "text": [
      "0.53257156907\n",
      "0.507173520108\n",
      "0.545921825576\n",
      "0.506037186678\n",
      "0.494839982988\n",
      "0.495529425055\n",
      "0.0660559104834 seconds process time\n"
     ]
    },
    {
     "data": {
      "image/png": "[encoded data removed]",
      "text/plain": [
       "<matplotlib.figure.Figure at 0x203c0240>"
      ]
     },
     "metadata": {},
     "output_type": "display_data"
    }
   ],
   "source": [
    "# measure process time\n",
    "t0 = time.clock()\n",
    "\n",
    "# If not, use the following; adds also more features....\n",
    "import matplotlib.patches as mpatches\n",
    "import matplotlib.pyplot as plt\n",
    "%matplotlib inline\n",
    "# NB:\n",
    "y_pred_prob = nb.predict_proba(X_test)[:, 1]\n",
    "nb_auc=metrics.roc_auc_score(y_test, y_pred_prob)\n",
    "print metrics.roc_auc_score(y_test, y_pred_prob)\n",
    "nb_fpr, nb_tpr, nb_thresholds = metrics.roc_curve(y_test, y_pred_prob)\n",
    "# KNN:\n",
    "y_pred_prob = knn.predict_proba(X_test)[:, 1]\n",
    "knn_auc=metrics.roc_auc_score(y_test, y_pred_prob)\n",
    "print metrics.roc_auc_score(y_test, y_pred_prob)\n",
    "knn_fpr, knn_tpr, knn_thresholds = metrics.roc_curve(y_test, y_pred_prob)\n",
    "# LG:\n",
    "y_pred_prob = logreg.predict_proba(X_test)[:, 1]\n",
    "logreg_auc=metrics.roc_auc_score(y_test, y_pred_prob)\n",
    "print metrics.roc_auc_score(y_test, y_pred_prob)\n",
    "lg_fpr, lg_tpr, lg_thresholds = metrics.roc_curve(y_test, y_pred_prob)\n",
    "#TREE:\n",
    "y_pred_prob = tree.predict_proba(X_test)[:, 1]\n",
    "tree_auc=metrics.roc_auc_score(y_test, y_pred_prob)\n",
    "print metrics.roc_auc_score(y_test, y_pred_prob)\n",
    "tree_fpr, tree_tpr, tree_thresholds = metrics.roc_curve(y_test, y_pred_prob)\n",
    "# BAG:\n",
    "y_pred_prob = bag.predict_proba(X_test)[:, 1]\n",
    "bag_auc=metrics.roc_auc_score(y_test, y_pred_prob)\n",
    "print metrics.roc_auc_score(y_test, y_pred_prob)\n",
    "bag_fpr, bag_tpr, bag_thresholds = metrics.roc_curve(y_test, y_pred_prob)\n",
    "# RF:\n",
    "y_pred_prob = rf.predict_proba(X_test)[:, 1]\n",
    "rf_auc=metrics.roc_auc_score(y_test, y_pred_prob)\n",
    "print metrics.roc_auc_score(y_test, y_pred_prob)\n",
    "rf_fpr, rf_tpr, rf_thresholds = metrics.roc_curve(y_test, y_pred_prob)\n",
    "\n",
    "plt.plot(nb_fpr, nb_tpr, knn_fpr, knn_tpr, lg_fpr, lg_tpr, tree_fpr, tree_tpr, bag_fpr, bag_tpr,rf_fpr, rf_tpr, linewidth=2.0)\n",
    "plt.xlim([0.0, 1.0])\n",
    "plt.ylim([0.0, 1.0])\n",
    "plt.title('ROC Curves')\n",
    "plt.xlabel('False Positive Rate (1 - Specificity)')\n",
    "plt.ylabel('True Positive Rate (Sensitivity)')\n",
    "nb = mpatches.Patch(color='blue', label='nb')\n",
    "knn= mpatches.Patch(color='green', label='knn')\n",
    "lg = mpatches.Patch(color='red', label='lg')\n",
    "tree = mpatches.Patch(color='cyan', label='tree')\n",
    "bag = mpatches.Patch(color='magenta', label='bag')\n",
    "rf = mpatches.Patch(color='yellow', label='rf')\n",
    "plt.legend(handles=[nb,knn,lg,tree,bag,rf], loc=4)\n",
    "plt.grid(True)\n",
    "\n",
    "\n",
    "print time.clock() - t0, \"seconds process time\"\n",
    "plot_time=time.clock() - t0\n"
   ]
  },
  {
   "cell_type": "markdown",
   "metadata": {},
   "source": [
    "> 5.10 Feature selection\n",
    "> \n",
    "> Recursive feature elimination: recursively removing attributes and building a model on those attributes that remain. \n",
    "> It uses the model accuracy to identify which attributes (and combination of attributes) contribute the most \n",
    "> to predicting the target attribute."
   ]
  },
  {
   "cell_type": "code",
   "execution_count": 62,
   "metadata": {
    "collapsed": false
   },
   "outputs": [
    {
     "name": "stdout",
     "output_type": "stream",
     "text": [
      "Best three features:\n",
      "[False False False False False  True  True  True]\n",
      "[5 6 3 2 4 1 1 1]\n",
      "Best two features:\n",
      "[False False False False False  True False  True]\n",
      "[6 7 4 3 5 1 2 1]\n",
      "Best one feature:\n",
      "[False False False False False  True False False]\n",
      "[7 8 5 4 6 1 3 2]\n"
     ]
    },
    {
     "data": {
      "text/html": [
       "<div>\n",
       "<table border=\"1\" class=\"dataframe\">\n",
       "  <thead>\n",
       "    <tr style=\"text-align: right;\">\n",
       "      <th></th>\n",
       "      <th>recency</th>\n",
       "      <th>history</th>\n",
       "      <th>mens</th>\n",
       "      <th>womens</th>\n",
       "      <th>Location</th>\n",
       "      <th>newbie</th>\n",
       "      <th>Purchase_channel</th>\n",
       "      <th>Campaign_type</th>\n",
       "    </tr>\n",
       "  </thead>\n",
       "  <tbody>\n",
       "    <tr>\n",
       "      <th>29814</th>\n",
       "      <td>10</td>\n",
       "      <td>150.07</td>\n",
       "      <td>0</td>\n",
       "      <td>1</td>\n",
       "      <td>0</td>\n",
       "      <td>0</td>\n",
       "      <td>0</td>\n",
       "      <td>1</td>\n",
       "    </tr>\n",
       "    <tr>\n",
       "      <th>56302</th>\n",
       "      <td>1</td>\n",
       "      <td>204.46</td>\n",
       "      <td>1</td>\n",
       "      <td>1</td>\n",
       "      <td>0</td>\n",
       "      <td>0</td>\n",
       "      <td>1</td>\n",
       "      <td>1</td>\n",
       "    </tr>\n",
       "    <tr>\n",
       "      <th>10971</th>\n",
       "      <td>8</td>\n",
       "      <td>509.23</td>\n",
       "      <td>1</td>\n",
       "      <td>0</td>\n",
       "      <td>2</td>\n",
       "      <td>1</td>\n",
       "      <td>1</td>\n",
       "      <td>1</td>\n",
       "    </tr>\n",
       "    <tr>\n",
       "      <th>11511</th>\n",
       "      <td>3</td>\n",
       "      <td>103.85</td>\n",
       "      <td>1</td>\n",
       "      <td>0</td>\n",
       "      <td>2</td>\n",
       "      <td>1</td>\n",
       "      <td>1</td>\n",
       "      <td>0</td>\n",
       "    </tr>\n",
       "    <tr>\n",
       "      <th>21048</th>\n",
       "      <td>5</td>\n",
       "      <td>29.99</td>\n",
       "      <td>0</td>\n",
       "      <td>1</td>\n",
       "      <td>2</td>\n",
       "      <td>0</td>\n",
       "      <td>0</td>\n",
       "      <td>1</td>\n",
       "    </tr>\n",
       "  </tbody>\n",
       "</table>\n",
       "</div>"
      ],
      "text/plain": [
       "       recency  history  mens  womens  Location  newbie  Purchase_channel  \\\n",
       "29814       10   150.07     0       1         0       0                 0   \n",
       "56302        1   204.46     1       1         0       0                 1   \n",
       "10971        8   509.23     1       0         2       1                 1   \n",
       "11511        3   103.85     1       0         2       1                 1   \n",
       "21048        5    29.99     0       1         2       0                 0   \n",
       "\n",
       "       Campaign_type  \n",
       "29814              1  \n",
       "56302              1  \n",
       "10971              1  \n",
       "11511              0  \n",
       "21048              1  "
      ]
     },
     "execution_count": 62,
     "metadata": {},
     "output_type": "execute_result"
    }
   ],
   "source": [
    "# Recursive Feature Elimination 3 vars\n",
    "from sklearn.linear_model import LogisticRegression\n",
    "from sklearn.feature_selection import RFE\n",
    "X = X_train\n",
    "y = y_train\n",
    "X.shape\n",
    "model = LogisticRegression()\n",
    "rfe = RFE(model, 3)\n",
    "rfe=rfe.fit(X,y)\n",
    "# summarize the selection of the attributes\n",
    "print 'Best three features:'\n",
    "print(rfe.support_)\n",
    "print(rfe.ranking_)\n",
    "X_train.head()\n",
    "\n",
    "# Recursive Feature Elimination 2 vars\n",
    "from sklearn.linear_model import LogisticRegression\n",
    "from sklearn.feature_selection import RFE\n",
    "X = X_train\n",
    "y = y_train\n",
    "X.shape\n",
    "model = LogisticRegression()\n",
    "rfe = RFE(model, 2)\n",
    "rfe=rfe.fit(X,y)\n",
    "# summarize the selection of the attributes\n",
    "print 'Best two features:'\n",
    "print(rfe.support_)\n",
    "print(rfe.ranking_)\n",
    "X_train.head()\n",
    "\n",
    "# Recursive Feature Elimination 1 var\n",
    "from sklearn.linear_model import LogisticRegression\n",
    "from sklearn.feature_selection import RFE\n",
    "X = X_train\n",
    "y = y_train\n",
    "X.shape\n",
    "model = LogisticRegression()\n",
    "rfe = RFE(model, 1)\n",
    "rfe=rfe.fit(X,y)\n",
    "# summarize the selection of the attributes\n",
    "print 'Best one feature:'\n",
    "print(rfe.support_)\n",
    "print(rfe.ranking_)\n",
    "X_train.head()"
   ]
  },
  {
   "cell_type": "code",
   "execution_count": 63,
   "metadata": {
    "collapsed": false
   },
   "outputs": [
    {
     "name": "stdout",
     "output_type": "stream",
     "text": [
      "LG with all seven predictors:\n",
      "[ 0.55928728  0.44501597  0.57543667  0.58076791  0.51673554  0.54881198\n",
      "  0.56394628  0.59230372  0.4710916   0.4934573 ]\n",
      "0.534685423552\n",
      "LG with best two predictors:\n",
      "[ 0.51280888  0.46927215  0.5277816   0.60148072  0.52923554  0.55072314\n",
      "  0.57190083  0.53254132  0.54987948  0.50027548]\n",
      "0.534589912153\n"
     ]
    }
   ],
   "source": [
    "df2=df[(df.visit==1)]\n",
    "X_cols=[ 'recency', 'history', 'mens', 'womens', 'Location', 'newbie', 'Purchase_channel', 'Campaign_type']\n",
    "X=df2[X_cols]\n",
    "Y=df2.conversion\n",
    "\n",
    "from sklearn.cross_validation import train_test_split\n",
    "X_train, X_test, y_train, y_test = train_test_split(X, Y, random_state=1234567)\n",
    "#-----------------------------------------------------------------------------\n",
    "# Logistic Regression: all prediction variables\n",
    "#-----------------------------------------------------------------------------\n",
    "from sklearn.linear_model import LogisticRegression\n",
    "logreg = LogisticRegression(C=1e9)\n",
    "X = X_train\n",
    "y = y_train\n",
    "logreg.fit(X, y)\n",
    "lg_pred_rating = logreg.predict(X) # class predictions\n",
    "from sklearn import metrics\n",
    "# print metrics.accuracy_score(y_test, y_pred_rating)\n",
    "# 10 fold cross-validation\n",
    "from sklearn.cross_validation import cross_val_score\n",
    "lg_10cv_auc = cross_val_score(logreg, X, y, cv=10, scoring='roc_auc')\n",
    "print 'LG with all seven predictors:'\n",
    "print lg_10cv_auc\n",
    "print lg_10cv_auc.mean()\n",
    "\n",
    "#-----------------------------------------------------------------------------\n",
    "# Logistic Regression: best 2 variables\n",
    "#-----------------------------------------------------------------------------\n",
    "\n",
    "X_cols=[ 'newbie',  'Campaign_type']\n",
    "X=df2[X_cols]\n",
    "Y=df2.conversion\n",
    "\n",
    "from sklearn.cross_validation import train_test_split\n",
    "X_train, X_test, y_train, y_test = train_test_split(X, Y, random_state=1234567)\n",
    "\n",
    "from sklearn.linear_model import LogisticRegression\n",
    "logreg = LogisticRegression(C=1e9)\n",
    "X = X_train\n",
    "y = y_train\n",
    "logreg.fit(X, y)\n",
    "lg_pred_rating = logreg.predict(X) # class predictions\n",
    "from sklearn import metrics\n",
    "# print metrics.accuracy_score(y_test, y_pred_rating)\n",
    "# 10 fold cross-validation\n",
    "from sklearn.cross_validation import cross_val_score\n",
    "lg_10cv_auc = cross_val_score(logreg, X, y, cv=10, scoring='roc_auc')\n",
    "print \"LG with best two predictors:\"\n",
    "print lg_10cv_auc\n",
    "print lg_10cv_auc.mean()\n"
   ]
  },
  {
   "cell_type": "markdown",
   "metadata": {},
   "source": [
    "#### 6. Objective 3: develop a regression model to predict how much customers spent in the past two weeks"
   ]
  },
  {
   "cell_type": "code",
   "execution_count": 64,
   "metadata": {
    "collapsed": false
   },
   "outputs": [
    {
     "name": "stdout",
     "output_type": "stream",
     "text": [
      "Recency: Months since last purchase\n",
      "History: Actual dollar value spent in the past year\n",
      "Womens: 1/0 indicator, 1 = customer purchased Womens merchandise in the past year\n",
      "Newbie: 1/0 indicator, 1 = New customer in the past twelve months\n",
      "Location: Surburban: 0, Rural: 1, Urban: 2\n",
      "Purchase_channel: Phone: 0, Web: 1, Multichannel: 2\n",
      "Campaign_type: NoEMail: 0, WomensEMail: 1, MensEMail:2\n",
      "[('recency', 0.68780147364098743), ('history', 0.0092757886070461044), ('womens', -27.057115494324762), ('newbie', 1.9415417429206636), ('location_1', -15.007073387127351), ('location_2', -3.7684544934566486), ('purchase_channel_1', 1.4026193026304892), ('purchase_channel_2', -6.0982017274315492), ('campaign_1', 10.46600526644394), ('campaign_2', -1.2860940399438583)]\n",
      "                            OLS Regression Results                            \n",
      "==============================================================================\n",
      "Dep. Variable:                  spend   R-squared:                       0.020\n",
      "Model:                            OLS   Adj. R-squared:                  0.001\n",
      "Method:                 Least Squares   F-statistic:                     1.072\n",
      "Date:                Thu, 10 Dec 2015   Prob (F-statistic):              0.381\n",
      "Time:                        09:59:41   Log-Likelihood:                -3519.3\n",
      "No. Observations:                 578   AIC:                             7063.\n",
      "Df Residuals:                     566   BIC:                             7115.\n",
      "Df Model:                          11                                         \n",
      "Covariance Type:            nonrobust                                         \n",
      "======================================================================================\n",
      "                         coef    std err          t      P>|t|      [95.0% Conf. Int.]\n",
      "--------------------------------------------------------------------------------------\n",
      "Intercept            116.5177     20.067      5.806      0.000        77.102   155.933\n",
      "recency                0.6943      1.345      0.516      0.606        -1.947     3.335\n",
      "history                0.0041      0.018      0.233      0.816        -0.030     0.038\n",
      "mens                  12.9167     13.899      0.929      0.353       -14.383    40.217\n",
      "womens               -17.4509     13.970     -1.249      0.212       -44.890     9.988\n",
      "newbie                 1.4321      9.897      0.145      0.885       -18.008    20.872\n",
      "location_1           -15.1617     12.604     -1.203      0.230       -39.919     9.595\n",
      "location_2            -4.2579     10.005     -0.426      0.671       -23.908    15.393\n",
      "purchase_channel_1     1.7267      9.944      0.174      0.862       -17.806    21.259\n",
      "purchase_channel_2    -6.8268     13.770     -0.496      0.620       -33.874    20.221\n",
      "campaign_1            11.0096     12.759      0.863      0.389       -14.051    36.070\n",
      "campaign_2            -1.5728     11.898     -0.132      0.895       -24.943    21.797\n",
      "==============================================================================\n",
      "Omnibus:                      188.010   Durbin-Watson:                   1.983\n",
      "Prob(Omnibus):                  0.000   Jarque-Bera (JB):              455.539\n",
      "Skew:                           1.701   Prob(JB):                     1.21e-99\n",
      "Kurtosis:                       5.710   Cond. No.                     2.58e+03\n",
      "==============================================================================\n",
      "\n",
      "Warnings:\n",
      "[1] Standard Errors assume that the covariance matrix of the errors is correctly specified.\n",
      "[2] The condition number is large, 2.58e+03. This might indicate that there are\n",
      "strong multicollinearity or other numerical problems.\n"
     ]
    }
   ],
   "source": [
    "df3=df2[(df2.conversion==1)]\n",
    "# Regression\n",
    "# create dummy variables for location purchase_channel and campaign type\n",
    "location_dummies=pd.get_dummies(df3.Location, prefix='location')\n",
    "location_dummies=location_dummies[['location_1','location_2']]\n",
    "df4=pd.concat([df3,location_dummies], axis=1)\n",
    "\n",
    "pc_dummies=pd.get_dummies(df3.Purchase_channel, prefix='purchase_channel')\n",
    "pc_dummies=pc_dummies[['purchase_channel_1','purchase_channel_2']]\n",
    "df4=pd.concat([df4,pc_dummies], axis=1)\n",
    "\n",
    "ct_dummies=pd.get_dummies(df3.Campaign_type, prefix='campaign')\n",
    "ct_dummies=ct_dummies[['campaign_1','campaign_2']]\n",
    "df4=pd.concat([df4,ct_dummies], axis=1)\n",
    "\n",
    "print 'Recency: Months since last purchase'\n",
    "print 'History: Actual dollar value spent in the past year'\n",
    "print 'Womens: 1/0 indicator, 1 = customer purchased Womens merchandise in the past year'\n",
    "print 'Newbie: 1/0 indicator, 1 = New customer in the past twelve months'\n",
    "print 'Location: Surburban: 0, Rural: 1, Urban: 2'\n",
    "print 'Purchase_channel: Phone: 0, Web: 1, Multichannel: 2'\n",
    "print 'Campaign_type: NoEMail: 0, WomensEMail: 1, MensEMail:2' \n",
    "\n",
    "feature_cols = ['recency','history','womens','newbie','location_1','location_2','purchase_channel_1','purchase_channel_2','campaign_1','campaign_2' ]\n",
    "X = df4[feature_cols]\n",
    "y = df4.spend\n",
    "from sklearn.linear_model import LinearRegression\n",
    "linreg = LinearRegression()\n",
    "linreg.fit(X, y)\n",
    "print zip(feature_cols, linreg.coef_)\n",
    "\n",
    "# this is the standard import if you're using \"formula notation\" (similar to R)\n",
    "import statsmodels.formula.api as smf\n",
    "lm = smf.ols(formula='spend ~recency+history+mens+womens+newbie+location_1+location_2+purchase_channel_1+purchase_channel_2+campaign_1+campaign_2', data=df4).fit()\n",
    "print lm.summary() "
   ]
  },
  {
   "cell_type": "markdown",
   "metadata": {
    "collapsed": true
   },
   "source": [
    "#### 7. Notes: \n",
    "> 'accuracy' vs. 'roc_auc' (cross_val_score(..., X, y, cv=..., scoring='accuracy' or 'roc_auc'))"
   ]
  },
  {
   "cell_type": "code",
   "execution_count": 65,
   "metadata": {
    "collapsed": false
   },
   "outputs": [
    {
     "name": "stdout",
     "output_type": "stream",
     "text": [
      "AUC values\n",
      "[ 0.64243634  0.64564644  0.64579946  0.61983594  0.61726966  0.62933077\n",
      "  0.6477608   0.6452407   0.64036973  0.63627114]\n",
      "0.636996097985\n"
     ]
    }
   ],
   "source": [
    "X_cols=[ 'recency', 'history', 'mens','womens', 'Location', 'newbie', 'Purchase_channel', 'Campaign_type']\n",
    "X=df[X_cols]\n",
    "Y=df.visit\n",
    "from sklearn.cross_validation import train_test_split\n",
    "X_train, X_test, y_train, y_test = train_test_split(X, Y, random_state=1234567)\n",
    "\n",
    "from sklearn.linear_model import LogisticRegression\n",
    "logreg = LogisticRegression(C=1e9)\n",
    "X = X_train\n",
    "y = y_train\n",
    "logreg.fit(X, y)\n",
    "lg_pred_rating = logreg.predict(X) # class predictions\n",
    "from sklearn import metrics\n",
    "# print metrics.accuracy_score(y_test, y_pred_rating)\n",
    "# 10 fold cross-validation\n",
    "from sklearn.cross_validation import cross_val_score\n",
    "lg_10cv_auc = cross_val_score(logreg, X, y, cv=10, scoring='roc_auc')\n",
    "print 'AUC values'\n",
    "print lg_10cv_auc\n",
    "print lg_10cv_auc.mean()"
   ]
  },
  {
   "cell_type": "code",
   "execution_count": 66,
   "metadata": {
    "collapsed": false
   },
   "outputs": [
    {
     "name": "stdout",
     "output_type": "stream",
     "text": [
      "Accuracy values\n",
      "[ 0.85273901  0.85273901  0.85291667  0.85291667  0.85291667  0.85291667\n",
      "  0.85291667  0.85291667  0.85288602  0.85288602]\n",
      "0.852875006125\n"
     ]
    }
   ],
   "source": [
    "from sklearn.cross_validation import cross_val_score\n",
    "lg_10cv_accuracy = cross_val_score(logreg, X, y, cv=10, scoring='accuracy')\n",
    "print 'Accuracy values'\n",
    "print lg_10cv_accuracy\n",
    "print lg_10cv_accuracy.mean()"
   ]
  },
  {
   "cell_type": "code",
   "execution_count": 32,
   "metadata": {
    "collapsed": false
   },
   "outputs": [
    {
     "name": "stdout",
     "output_type": "stream",
     "text": [
      "9394\n",
      "54606\n"
     ]
    }
   ],
   "source": [
    "print len(df.visit[(df.visit==1)])\n",
    "print len(df.visit[(df.visit==0)])"
   ]
  },
  {
   "cell_type": "code",
   "execution_count": 33,
   "metadata": {
    "collapsed": false
   },
   "outputs": [
    {
     "data": {
      "text/plain": [
       "0.85321875"
      ]
     },
     "execution_count": 33,
     "metadata": {},
     "output_type": "execute_result"
    }
   ],
   "source": [
    "54606.0/(54606+9394)"
   ]
  },
  {
   "cell_type": "markdown",
   "metadata": {},
   "source": [
    "$Accuracy=\\dfrac{(Predicted TRUE|TRUE)+(Predicted FALSE|FALSE)}{TOTAL}$\n",
    "\n",
    "$Sensitivity=\\dfrac{Predicted TRUE|TRUE}{TOTAL TRUE}$\n",
    "\n",
    "$Specificity=\\dfrac{Predicted FALSE|FALSE}{TOTAL FALSE}$\n",
    "\n",
    "$1-Specificity=\\dfrac{Predicted TRUE|FALSE}{TOTAL FALSE}$"
   ]
  },
  {
   "cell_type": "markdown",
   "metadata": {},
   "source": [
    "> AUC - area under the ROC: Sensitivity (TPR) vs. (1-Specificity)(FPR)"
   ]
  },
  {
   "cell_type": "markdown",
   "metadata": {},
   "source": [
    "> Accuracy  measures the proportion of the total number of predictions that are correct.\n",
    ">\n",
    "> AUC measures the quality of the the classification. Given a random sample of positive & negative observations, AUC gives \n",
    "> the proportion of the times your model guesses which is correct.\n",
    ">\n",
    "> Accuracy is sensitive to the sample balance (AUC less affected...)\n",
    "\n",
    "> Most MLM are sensitive to the initial labeled dataset & skewness of the data..."
   ]
  }
 ],
 "metadata": {
  "kernelspec": {
   "display_name": "Python 2",
   "language": "python",
   "name": "python2"
  },
  "language_info": {
   "codemirror_mode": {
    "name": "ipython",
    "version": 2
   },
   "file_extension": ".py",
   "mimetype": "text/x-python",
   "name": "python",
   "nbconvert_exporter": "python",
   "pygments_lexer": "ipython2",
   "version": "2.7.11"
  }
 },
 "nbformat": 4,
 "nbformat_minor": 0
}
